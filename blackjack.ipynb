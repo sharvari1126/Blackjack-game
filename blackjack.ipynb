{
 "cells": [
  {
   "cell_type": "code",
   "execution_count": 1,
   "id": "45d7a669-30b8-40fe-b2aa-8ff42cdfefef",
   "metadata": {},
   "outputs": [],
   "source": [
    "import random\n",
    "\n",
    "suits = ('Hearts' , 'Diamonds' , 'Spades', 'Clubs')\n",
    "ranks = ('Two' , 'Three', 'Four', 'Five',  'Six', 'Seven', 'Eight', 'Nine', 'Ten', 'Jack', 'Queen', 'King', 'Ace')\n",
    "values = { 'Two': 2, 'Three': 3, 'Four':4, 'Five' : 5,  'Six' : 6, 'Seven': 7, 'Eight' : 8, 'Nine':9, 'Ten':10, 'Jack':10, 'Queen':10, 'King':10, 'Ace':11}"
   ]
  },
  {
   "cell_type": "code",
   "execution_count": 2,
   "id": "b558301c-ed58-4c83-bc15-c48a67adda3e",
   "metadata": {},
   "outputs": [],
   "source": [
    "class Cards:\n",
    "\n",
    "    def __init__(self,suit,rank):\n",
    "        self.suit = suit\n",
    "        self.rank = rank\n",
    "        self.value = values[rank]\n",
    "\n",
    "    def __str__(self):\n",
    "            return self.rank + \" of \" + self.suit\n"
   ]
  },
  {
   "cell_type": "code",
   "execution_count": 3,
   "id": "62d6ebea-ccde-4925-b14f-594c405c8b7d",
   "metadata": {},
   "outputs": [],
   "source": [
    "class Deck:\n",
    "\n",
    "    def __init__(self):\n",
    "        self.deck=[]\n",
    "        for suit in suits:\n",
    "            for rank in ranks:\n",
    "                self.deck.append(Cards(suit,rank))\n",
    "\n",
    "    def __str__(self):\n",
    "            return f\"Deck contains {len(self.deck)} cards\"\n",
    "\n",
    "    def shuffle(self):\n",
    "        random.shuffle(self.deck)\n",
    "\n",
    "    def deal(self):\n",
    "        return self.deck.pop()\n",
    "    "
   ]
  },
  {
   "cell_type": "code",
   "execution_count": 4,
   "id": "f2c5def4-0ace-4161-941d-1b5b7391a144",
   "metadata": {},
   "outputs": [],
   "source": [
    "test = Deck()"
   ]
  },
  {
   "cell_type": "code",
   "execution_count": 5,
   "id": "5c7566bf-f8b6-4c40-834a-4c3dc10af681",
   "metadata": {},
   "outputs": [
    {
     "data": {
      "text/plain": [
       "<__main__.Deck at 0x20cdacf5580>"
      ]
     },
     "execution_count": 5,
     "metadata": {},
     "output_type": "execute_result"
    }
   ],
   "source": [
    "test"
   ]
  },
  {
   "cell_type": "code",
   "execution_count": 6,
   "id": "cb2fa217-5b3a-4fc0-9287-33dd47b5f755",
   "metadata": {},
   "outputs": [
    {
     "name": "stdout",
     "output_type": "stream",
     "text": [
      "Deck contains 52 cards\n"
     ]
    }
   ],
   "source": [
    "print(test)"
   ]
  },
  {
   "cell_type": "code",
   "execution_count": 29,
   "id": "23a655a8-fac9-4c42-9a12-effb74867690",
   "metadata": {},
   "outputs": [],
   "source": [
    "class Hand():\n",
    "    def __init__(self):\n",
    "        self.cards = []\n",
    "        self.value = 0\n",
    "        self.aces = 0\n",
    "        self.values = values\n",
    "\n",
    "    \n",
    "    def add_cards(self,card):\n",
    "        self.cards.append(card)\n",
    "        \n",
    "\n",
    "        self.value += card.value\n",
    "            \n",
    "        if card.rank == 'Ace':\n",
    "                self.aces+= 1\n",
    "\n",
    "        self.adjust_for_ace()\n",
    "    \n",
    "    def adjust_for_ace(self):\n",
    "        while self.value > 21 and self.aces>0:\n",
    "            self.value -= 10\n",
    "            self.aces -= 1\n",
    "            \n",
    "        \n",
    "\n"
   ]
  },
  {
   "cell_type": "code",
   "execution_count": 64,
   "id": "133af7ea-dc78-4aab-ab7b-7b29be116e48",
   "metadata": {},
   "outputs": [],
   "source": [
    "class Chips():\n",
    "    def __init__(self):\n",
    "        self.total = 100\n",
    "        self.bet = 0\n",
    "\n",
    "    def win_bet(self):\n",
    "        self.total+=self.bet\n",
    "\n",
    "    def lose_bet(self):\n",
    "        self.total-=self.bet"
   ]
  },
  {
   "cell_type": "code",
   "execution_count": 72,
   "id": "acac4071-c12c-40a7-a94c-7a7463fb6474",
   "metadata": {},
   "outputs": [],
   "source": [
    "def take_bet(chips):\n",
    "    while True:\n",
    "        try :\n",
    "            bet = int(input(\"How much would you like to bet?\"))\n",
    "            if bet > chips.total:\n",
    "                print(\"Your bet exceeds your total chips!\")\n",
    "            elif bet<=0 :\n",
    "                print(\"Bet must be greater than 0\")\n",
    "            else:\n",
    "                chips.bet = bet\n",
    "                break\n",
    "        except ValueError:\n",
    "           print(\"Please enter a number.\")\n",
    "        \n",
    "        \n",
    "\n",
    "\n",
    "            \n",
    "                           "
   ]
  },
  {
   "cell_type": "code",
   "execution_count": 66,
   "id": "9248a4b3-50c5-451d-b780-a17801823fd2",
   "metadata": {},
   "outputs": [],
   "source": [
    "def hit(deck,hand):\n",
    "    new_card = deck.deal()\n",
    "    hand.add_cards(new_card)\n",
    "    hand.adjust_for_ace()\n",
    "\n",
    "   \n",
    "    "
   ]
  },
  {
   "cell_type": "code",
   "execution_count": 78,
   "id": "5ce475da-0310-4b0a-9364-30d2e4f3b02d",
   "metadata": {},
   "outputs": [],
   "source": [
    "playing = True\n",
    "def hit_or_stand(deck,hand):\n",
    "    global playing\n",
    "    while True:\n",
    "        choice = input(\"Do you want to hit or stand? Enter 'h' for hit and 's' for stand\")\n",
    "\n",
    "        if choice.lower() == 'h':\n",
    "            hit(deck,hand)\n",
    "            \n",
    "        elif choice.lower() == 's':\n",
    "            playing = False\n",
    "            print(\"Players stands, dealer's turn.\")\n",
    "        else :\n",
    "            print(\"Invalid input! Please enter 'h' or 's'\")\n",
    "            continue\n",
    "        break\n",
    "    \n",
    "   "
   ]
  },
  {
   "cell_type": "code",
   "execution_count": 79,
   "id": "1001e2ba-1b71-4474-b9da-a1bcaf341579",
   "metadata": {},
   "outputs": [],
   "source": [
    "def show_some(player,dealer):\n",
    "    print(\"\\n \\nPlayer's cards :\")\n",
    "    for card in player.cards:\n",
    "        print(card)\n",
    "    print(\"\\n Dealer's cards:\")\n",
    "    print(dealer.cards[0])\n",
    "    print(\"Hidden\")\n",
    "\n",
    "\n",
    "def show_all(player,dealer):\n",
    "    print(\"\\n \\nPlayer's cards :\")\n",
    "    for card in player.cards:\n",
    "        print(card)\n",
    "    print(f\"Player hand value is  {player.value}\")\n",
    "    print(\"\\nDealer's cards :\")\n",
    "    for card in dealer.cards:\n",
    "        print(card)\n",
    "    print(f\"Dealer hand value is {dealer.value}\")\n",
    "    "
   ]
  },
  {
   "cell_type": "code",
   "execution_count": 86,
   "id": "a433d7e0-0ee3-4410-8e7c-bfd4bb9582ae",
   "metadata": {},
   "outputs": [],
   "source": [
    "def player_busts(chips):\n",
    "    print(\"\\n Player busts\")\n",
    "    chips.lose_bet()\n",
    "\n",
    "def player_wins(chips):\n",
    "    print(\"\\n Player wins\")\n",
    "    chips.win_bet()\n",
    "\n",
    "\n",
    "def dealer_busts(chips):\n",
    "    print(\"\\n Dealer busts\")\n",
    "    chips.win_bet()\n",
    "\n",
    "def dealer_wins(chips):\n",
    "    print(\"\\nDealer wins\")\n",
    "    chips.lose_bet()\n",
    "\n",
    "def push():\n",
    "    print(\"\\nit's a tie!\")\n",
    "    \n",
    "    \n",
    "\n"
   ]
  },
  {
   "cell_type": "code",
   "execution_count": 87,
   "id": "ba1f3c54-dc9a-4ce1-b342-3752e9f89353",
   "metadata": {
    "scrolled": true
   },
   "outputs": [
    {
     "name": "stdout",
     "output_type": "stream",
     "text": [
      "Welcome to the Blackjack game!\n",
      "Your total chips = 100\n"
     ]
    },
    {
     "name": "stdin",
     "output_type": "stream",
     "text": [
      "How much would you like to bet? 25\n"
     ]
    },
    {
     "name": "stdout",
     "output_type": "stream",
     "text": [
      "\n",
      " \n",
      "Player's cards :\n",
      "Ace of Diamonds\n",
      "Jack of Clubs\n",
      "\n",
      " Dealer's cards:\n",
      "Six of Hearts\n",
      "Hidden\n"
     ]
    },
    {
     "name": "stdin",
     "output_type": "stream",
     "text": [
      "Do you want to hit or stand? Enter 'h' for hit and 's' for stand s\n"
     ]
    },
    {
     "name": "stdout",
     "output_type": "stream",
     "text": [
      "Players stands, dealer's turn.\n",
      "\n",
      " \n",
      "Player's cards :\n",
      "Ace of Diamonds\n",
      "Jack of Clubs\n",
      "\n",
      " Dealer's cards:\n",
      "Six of Hearts\n",
      "Hidden\n",
      "\n",
      " \n",
      "Player's cards :\n",
      "Ace of Diamonds\n",
      "Jack of Clubs\n",
      "Player hand value is  21\n",
      "\n",
      "Dealer's cards :\n",
      "Six of Hearts\n",
      "Two of Clubs\n",
      "Ace of Spades\n",
      "Dealer hand value is 19\n",
      "\n",
      " Player wins\n",
      "\n",
      " Your total  chips are : 125\n"
     ]
    },
    {
     "name": "stdin",
     "output_type": "stream",
     "text": [
      "\n",
      " Do you want to play again? Y/N y\n"
     ]
    },
    {
     "name": "stdout",
     "output_type": "stream",
     "text": [
      "Welcome to the Blackjack game!\n",
      "Your total chips = 100\n"
     ]
    },
    {
     "name": "stdin",
     "output_type": "stream",
     "text": [
      "How much would you like to bet? 125\n"
     ]
    },
    {
     "name": "stdout",
     "output_type": "stream",
     "text": [
      "Your bet exceeds your total chips!\n"
     ]
    },
    {
     "name": "stdin",
     "output_type": "stream",
     "text": [
      "How much would you like to bet? 80\n"
     ]
    },
    {
     "name": "stdout",
     "output_type": "stream",
     "text": [
      "\n",
      " \n",
      "Player's cards :\n",
      "Three of Hearts\n",
      "King of Diamonds\n",
      "\n",
      " Dealer's cards:\n",
      "Two of Clubs\n",
      "Hidden\n"
     ]
    },
    {
     "name": "stdin",
     "output_type": "stream",
     "text": [
      "Do you want to hit or stand? Enter 'h' for hit and 's' for stand h\n"
     ]
    },
    {
     "name": "stdout",
     "output_type": "stream",
     "text": [
      "\n",
      " \n",
      "Player's cards :\n",
      "Three of Hearts\n",
      "King of Diamonds\n",
      "King of Spades\n",
      "\n",
      " Dealer's cards:\n",
      "Two of Clubs\n",
      "Hidden\n",
      "\n",
      " Player busts\n",
      "\n",
      " Your total  chips are : 20\n"
     ]
    },
    {
     "name": "stdin",
     "output_type": "stream",
     "text": [
      "\n",
      " Do you want to play again? Y/N n\n"
     ]
    },
    {
     "name": "stdout",
     "output_type": "stream",
     "text": [
      "Thanks for playing!\n"
     ]
    }
   ],
   "source": [
    "while True:\n",
    "    print(\"Welcome to the Blackjack game!\")\n",
    "    \n",
    "\n",
    "    new_deck = Deck()\n",
    "    new_deck.shuffle()\n",
    "\n",
    "    player_hand = Hand()\n",
    "    dealer_hand = Hand()\n",
    "\n",
    "\n",
    "\n",
    "    for x in range(2): \n",
    "        player_hand.add_cards(new_deck.deal())\n",
    "        dealer_hand.add_cards(new_deck.deal())\n",
    "\n",
    "    print(\"Your total chips = 100\")\n",
    "    player_chips = Chips()\n",
    "\n",
    "    take_bet(player_chips)\n",
    "    show_some(player_hand,dealer_hand)\n",
    "    playing = True\n",
    "    while playing:\n",
    "        hit_or_stand(new_deck,player_hand)\n",
    "        show_some(player_hand,dealer_hand)\n",
    "\n",
    "        \n",
    "        if player_hand.value > 21:\n",
    "            player_busts(player_chips)\n",
    "            break\n",
    "    if player_hand.value <=21 :\n",
    "        while dealer_hand.value < 17:\n",
    "            hit(new_deck,dealer_hand)\n",
    "        show_all(player_hand,dealer_hand)\n",
    "        if player_hand.value > dealer_hand.value:\n",
    "            player_wins(player_chips)\n",
    "            \n",
    "        elif dealer_hand.value < 21 :\n",
    "            dealer_busts(player_chipsp)\n",
    "            \n",
    "        elif player_hand.value < dealer_hand.value:\n",
    "            dealer_wins(player_chips)\n",
    "            \n",
    "        else:\n",
    "            push(player_chips)\n",
    "            \n",
    "\n",
    "    print(f\"\\n Your total  chips are : {player_chips.total}\")\n",
    "\n",
    "    choose = input(\"\\n Do you want to play again? Y/N\")\n",
    "    if choose.lower() == 'n':\n",
    "        print(\"Thanks for playing!\")\n",
    "        break\n",
    "          \n",
    "            \n",
    "            \n",
    "\n",
    "            \n",
    "        \n",
    "    "
   ]
  },
  {
   "cell_type": "code",
   "execution_count": null,
   "id": "3b0ed5ac-e17f-4ce9-82a3-04ef87d41ff1",
   "metadata": {},
   "outputs": [],
   "source": []
  },
  {
   "cell_type": "code",
   "execution_count": null,
   "id": "dd3fe1c1-d3f8-4bf3-8817-df57772f7a09",
   "metadata": {},
   "outputs": [],
   "source": []
  }
 ],
 "metadata": {
  "kernelspec": {
   "display_name": "Python 3 (ipykernel)",
   "language": "python",
   "name": "python3"
  },
  "language_info": {
   "codemirror_mode": {
    "name": "ipython",
    "version": 3
   },
   "file_extension": ".py",
   "mimetype": "text/x-python",
   "name": "python",
   "nbconvert_exporter": "python",
   "pygments_lexer": "ipython3",
   "version": "3.12.2"
  }
 },
 "nbformat": 4,
 "nbformat_minor": 5
}
